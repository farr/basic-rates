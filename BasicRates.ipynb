{
 "cells": [
  {
   "cell_type": "code",
   "execution_count": 2,
   "id": "67af5fa3-c6e7-4230-89d4-54401b60c298",
   "metadata": {},
   "outputs": [],
   "source": [
    "%matplotlib inline\n",
    "%config InlineBackend.figure_format='retina'"
   ]
  },
  {
   "cell_type": "markdown",
   "id": "5e38ba4d-2a26-4bee-adbd-b98969047625",
   "metadata": {},
   "source": [
    "To install prerequesites:\n",
    "\n",
    "```python\n",
    "python -m pip install -r requriements.txt\n",
    "```"
   ]
  },
  {
   "cell_type": "code",
   "execution_count": 5,
   "id": "cd0ab8be-4b8b-44fc-8571-c99eef59d2d0",
   "metadata": {},
   "outputs": [],
   "source": [
    "from pylab import *\n",
    "\n",
    "import astropy.cosmology as cosmo\n",
    "from astropy.cosmology import Planck18\n",
    "import astropy.units as u\n",
    "import seaborn as sns\n",
    "\n",
    "sns.set_context('notebook')\n",
    "sns.set_style('ticks')\n",
    "sns.set_palette('colorblind')"
   ]
  },
  {
   "cell_type": "markdown",
   "id": "6079532c-8ae0-4b26-b1f8-24127792f811",
   "metadata": {},
   "source": [
    "The yearly merger rate from a source whose merger rate in the source frame tracks the [Madau & Dickinson (2014)](https://ui.adsabs.harvard.edu/abs/2014ARA%26A..52..415M/abstract) star formation rate and has an instantaneous merger rate $R_{0.2}$ at $z = 0.2$ in the source frame (the GWTC-3 population paper, [Abbott, et al. (2022)](https://ui.adsabs.harvard.edu/abs/2021arXiv211103634T/abstract), quotes merger rate at $z=0.2$ as this is approximately the best-measured redshift) is\n",
    "$$\n",
    "\\frac{\\mathrm{d} N}{\\mathrm{d} t_\\mathrm{detector}} = R_{0.2} \\alpha \\int \\mathrm{d} z \\, \\frac{1}{1+z} \\frac{\\mathrm{d} V}{\\mathrm{d} z} \\frac{\\left( 1 + z \\right)^{2.7}}{1 + \\left( \\frac{1+z}{1+1.9} \\right)^{5.6}}\n",
    "$$\n",
    "where \n",
    "$$\n",
    "\\alpha \\equiv \\left[ \\frac{\\left( 1 + 0.2 \\right)^{2.7}}{1 + \\left( \\frac{1+0.2}{1+1.9} \\right)^{5.6}} \\right]^{-1}\n",
    "$$"
   ]
  },
  {
   "cell_type": "code",
   "execution_count": 22,
   "id": "3c976ae2-b22d-45af-9624-5a4b9f4ba2ba",
   "metadata": {},
   "outputs": [],
   "source": [
    "def md_sfr(z):\n",
    "    return (1+z)**2.7 / (1 + ((1+z)/(1+1.9))**5.6)\n",
    "alpha = 1/md_sfr(0.2)\n",
    "alpha0 = 1/md_sfr(0)"
   ]
  },
  {
   "cell_type": "markdown",
   "id": "56dd2487-897b-4844-847f-c4b73bd93376",
   "metadata": {},
   "source": [
    "Performing the integral, we obtain:"
   ]
  },
  {
   "cell_type": "code",
   "execution_count": 7,
   "id": "7f2d23eb-4b83-49ef-a933-99ee65447fb2",
   "metadata": {},
   "outputs": [
    {
     "name": "stdout",
     "output_type": "stream",
     "text": [
      "I = 2461.3 Gpc**3\n"
     ]
    }
   ],
   "source": [
    "zs = expm1(arange(start=log(1), stop=log(1+100), step=0.01))\n",
    "I = alpha*trapz(4*pi/(1+zs)*Planck18.differential_comoving_volume(zs).to(u.Gpc**3/u.sr).value*md_sfr(zs), zs)\n",
    "print('I = {:.1f} Gpc**3'.format(I))"
   ]
  },
  {
   "cell_type": "markdown",
   "id": "422d40ab-a840-4533-93c3-bc0ad1cbc1a2",
   "metadata": {},
   "source": [
    "In other words,\n",
    "$$\n",
    "\\frac{\\mathrm{d} N}{\\mathrm{d} t} = \\frac{2500}{\\mathrm{yr}} \\left( \\frac{R_{0.2}}{\\mathrm{Gpc}^{-3} \\, \\mathrm{yr}^{-1}} \\right) = \\frac{6.7}{\\mathrm{d}} \\left( \\frac{R_{0.2}}{\\mathrm{Gpc}^{-3} \\, \\mathrm{yr}^{-1}} \\right) = \\frac{0.28}{\\mathrm{hr}} \\left( \\frac{R_{0.2}}{\\mathrm{Gpc}^{-3} \\, \\mathrm{yr}^{-1}} \\right)\n",
    "$$"
   ]
  },
  {
   "cell_type": "markdown",
   "id": "91274afb-4430-4aea-b425-3bf368f22d85",
   "metadata": {},
   "source": [
    "[Abbott, et al. (2022)](https://ui.adsabs.harvard.edu/abs/2021arXiv211103634T/abstract) quotes a BBH merger rate of $R_{0.2} \\in [18,44] \\, \\mathrm{Gpc}^{-3} \\, \\mathrm{yr}^{-1}$, or "
   ]
  },
  {
   "cell_type": "code",
   "execution_count": 21,
   "id": "25a06873-90f0-43e5-b643-a1414a450b59",
   "metadata": {},
   "outputs": [
    {
     "name": "stdout",
     "output_type": "stream",
     "text": [
      "44000-110000 / yr, 120-300 / d, 5.1-12 / hr\n"
     ]
    }
   ],
   "source": [
    "Rlow = 18\n",
    "Rhigh = 44\n",
    "print('{:.0f}-{:.0f} / yr, {:.0f}-{:.0f} / d, {:.1f}-{:.0f} / hr'.format(round(I*Rlow,-3), round(I*Rhigh, -4), round(I*Rlow/365.25, -1), round(I*Rhigh/365.25,-1), I*Rlow/(365.25*24), I*Rhigh/(365.25*24)))"
   ]
  },
  {
   "cell_type": "markdown",
   "id": "7abbbd23-387f-4039-8c83-72ef0c6886a6",
   "metadata": {},
   "source": [
    "The BNS merger rate is quoted at $z = 0$ between $10$ and $1700 \\, \\mathrm{Gpc}^{-3} \\, \\mathrm{yr}^{-1}$; the median rate is about $300 \\, \\mathrm{Gpc}^{-3} \\, \\mathrm{yr}$, or "
   ]
  },
  {
   "cell_type": "code",
   "execution_count": 26,
   "id": "b96d9995-f455-4d88-9d53-39186cb4954d",
   "metadata": {},
   "outputs": [
    {
     "name": "stdout",
     "output_type": "stream",
     "text": [
      "1200000.000000 / yr, 3300.000000 / d , 140.000000 / hr\n"
     ]
    }
   ],
   "source": [
    "Rbns = 300\n",
    "print('{:f} / yr, {:f} / d , {:f} / hr'.format(round(Rbns*I*alpha0/alpha,-5), round(Rbns*I*alpha0/alpha/365.25,-2), round(Rbns*I*alpha0/alpha/365.25/24.0,-1)))"
   ]
  },
  {
   "cell_type": "code",
   "execution_count": null,
   "id": "3a1415e4-8ece-4df7-8ee2-634000e1d3fb",
   "metadata": {},
   "outputs": [],
   "source": []
  }
 ],
 "metadata": {
  "kernelspec": {
   "display_name": "Python 3 (ipykernel)",
   "language": "python",
   "name": "python3"
  },
  "language_info": {
   "codemirror_mode": {
    "name": "ipython",
    "version": 3
   },
   "file_extension": ".py",
   "mimetype": "text/x-python",
   "name": "python",
   "nbconvert_exporter": "python",
   "pygments_lexer": "ipython3",
   "version": "3.9.5"
  }
 },
 "nbformat": 4,
 "nbformat_minor": 5
}
